{
 "cells": [
  {
   "cell_type": "markdown",
   "metadata": {},
   "source": [
    "## Observations and Insights"
   ]
  },
  {
   "cell_type": "markdown",
   "metadata": {},
   "source": []
  },
  {
   "cell_type": "markdown",
   "metadata": {},
   "source": [
    "## Dependencies and starter code"
   ]
  },
  {
   "cell_type": "code",
   "execution_count": null,
   "metadata": {},
   "outputs": [],
   "source": [
    "# %matplotlib notebook"
   ]
  },
  {
   "cell_type": "code",
   "execution_count": null,
   "metadata": {},
   "outputs": [],
   "source": [
    "# Dependencies and Setup\n",
    "import matplotlib.pyplot as plt\n",
    "import pandas as pd\n",
    "import numpy as np\n",
    "import scipy.stats as st\n",
    "\n",
    "# Study data files\n",
    "mouse_metadata = \"data/Mouse_metadata.csv\"\n",
    "study_results = \"data/Study_results.csv\"\n",
    "\n",
    "# Read the mouse data and the study results\n",
    "mouse_metadata = pd.read_csv(mouse_metadata)\n",
    "study_results = pd.read_csv(study_results)\n",
    "\n",
    "# Combine the data into a single dataset\n",
    "metadata_results_combined_df = pd.merge(mouse_metadata, study_results, on='Mouse ID', how='outer')\n",
    "\n",
    "# Show the DataFrame\n",
    "metadata_results_combined_df"
   ]
  },
  {
   "cell_type": "markdown",
   "metadata": {},
   "source": [
    "## Summary statistics"
   ]
  },
  {
   "cell_type": "code",
   "execution_count": null,
   "metadata": {},
   "outputs": [],
   "source": [
    "# Generate a summary statistics table of mean, median, variance, standard deviation, and SEM of the tumor volume for each regimen\n",
    "# Group by the Drug Regimen to get some stats.\n",
    "regimen_group = metadata_results_combined_df.groupby(['Drug Regimen'])\n",
    "\n",
    "# Get the average, create a dataframe and rename the column\n",
    "volume_summary = regimen_group['Tumor Volume (mm3)'].mean()\n",
    "volume_summary_df = pd.DataFrame(volume_summary)\n",
    "volume_summary_df = volume_summary_df.rename(columns={'Tumor Volume (mm3)':'Mean Tumor Volume (mm3)'})\n",
    "\n",
    "# Get the other stats and show the dataframe\n",
    "volume_summary_df['Median Tumor Volume (mm3)'] = regimen_group['Tumor Volume (mm3)'].median()\n",
    "volume_summary_df['Variance Tumor Volume (mm3)'] = regimen_group['Tumor Volume (mm3)'].var()\n",
    "volume_summary_df['Stand. Dev. Tumor Volume (mm3)'] = regimen_group['Tumor Volume (mm3)'].std()\n",
    "volume_summary_df['SEM Tumor Volume (mm3)'] = regimen_group['Tumor Volume (mm3)'].sem()\n",
    "volume_summary_df"
   ]
  },
  {
   "cell_type": "markdown",
   "metadata": {},
   "source": [
    "## Bar plots"
   ]
  },
  {
   "cell_type": "code",
   "execution_count": null,
   "metadata": {},
   "outputs": [],
   "source": [
    "# Generate a bar plot showing number of data points for each treatment regimen using pyplot\n",
    "# Get the number of data points from the previous groupby and get the count\n",
    "number_of_data_points = regimen_group['Tumor Volume (mm3)'].count()\n",
    "\n",
    "# Get a list of the index from the volume stats dataframe and use that list to create the xaxis for the bar plot\n",
    "drug_regimen = volume_summary_df.index.values.tolist()\n",
    "x_axis = np.arange(len(drug_regimen))\n",
    "\n",
    "# Create a bar plot with the data using matplotlib.plot and prettyfy the plot\n",
    "plt.bar(x_axis, number_of_data_points, tick_label=drug_regimen, width=.5)\n",
    "plt.xticks(rotation='vertical')\n",
    "plt.title('Number of Data Points per Drug Regimen')\n",
    "plt.ylabel('Number of Data Points')\n",
    "plt.xlabel('Drug Regimen')\n",
    "plt.grid()\n",
    "plt.tight_layout()\n",
    "plt.show()"
   ]
  },
  {
   "cell_type": "code",
   "execution_count": null,
   "metadata": {},
   "outputs": [],
   "source": [
    "# Generate a bar plot showing number of data points for each treatment regimen using pandas\n",
    "# Create a dataframe of the groupby where I got the count of values form the above cell\n",
    "data_point_count_df = pd.DataFrame(number_of_data_points)\n",
    "\n",
    "# Create a bar plot using pandas plot of the data and prettyfy it\n",
    "Count_PDPlot = data_point_count_df.plot(kind='bar', grid=True, legend=False)\n",
    "plt.title('Number of Data Points per Drug Regimen')\n",
    "Count_PDPlot.set_ylabel('Number of Data Points')\n",
    "plt.tight_layout()\n",
    "plt.show()"
   ]
  },
  {
   "cell_type": "markdown",
   "metadata": {},
   "source": [
    "## Pie plots"
   ]
  },
  {
   "cell_type": "code",
   "execution_count": null,
   "metadata": {},
   "outputs": [],
   "source": [
    "# Generate a pie plot showing the distribution of female versus male mice using pyplot\n",
    "# Create a dataframe with only one value for each mouse, I did this by droping the duplicates in the Mouse ID column\n",
    "# In this case, I only kept the last row for latter use.\n",
    "unique_mouse = metadata_results_combined_df.drop_duplicates(subset=['Mouse ID'], keep='last')\n",
    "\n",
    "# I created a groupby of the sex column and used the .count() method to get the number of males and females, and put this into a dataframe\n",
    "sex_ratio_group = unique_mouse.groupby(['Sex']).count()\n",
    "sex_ratio_df = pd.DataFrame(sex_ratio_group['Mouse ID'])\n",
    "\n",
    "# I created a list of the count of males and females and the word \"male\", \"female\" correlated to that count value\n",
    "sex_ratio = list(sex_ratio_df['Mouse ID'])\n",
    "labels = sex_ratio_df.index.values.tolist()\n",
    "\n",
    "# I then ploted this in a pie chart using matplotlib\n",
    "Ratio_MPLPlot = plt.pie(sex_ratio, labels=labels, autopct='%1.1f%%')\n",
    "plt.show()"
   ]
  },
  {
   "cell_type": "code",
   "execution_count": null,
   "metadata": {},
   "outputs": [],
   "source": [
    "# Generate a pie plot showing the distribution of female versus male mice using pandas\n",
    "# Taking the sex_ratio_df from above, I got a list of the keys which are the labels \"male\", 'female'\n",
    "sex_ratio_df\n",
    "gender_list = sex_ratio_df.keys()\n",
    "\n",
    "# I then ploted this in a pie chart using pandas from the dataframe directly\n",
    "Ratio_PDPlot = sex_ratio_df.plot(kind='pie', y=gender_list, legend=False, autopct='%1.1f%%')\n",
    "a=Ratio_PDPlot.set_ylabel('')\n",
    "plt.show()"
   ]
  },
  {
   "cell_type": "markdown",
   "metadata": {},
   "source": [
    "## Quartiles, outliers and boxplots"
   ]
  },
  {
   "cell_type": "code",
   "execution_count": null,
   "metadata": {},
   "outputs": [],
   "source": [
    "# Calculate the final tumor volume of each mouse across four of the most promising treatment regimens. \n",
    "# Capomulin, Ramicane, Infubinol, and Ceftamin.\n",
    "# using the merged dataframe, pull out rows that have the 4 regimens that we are interested in\n",
    "metadata_results_combined_df\n",
    "prom_regimens = metadata_results_combined_df[metadata_results_combined_df['Drug Regimen']\n",
    "                                             .isin(['Capomulin', 'Ramicane', 'Infubinol', 'Ceftamin'])] \n",
    "\n",
    "# to get the final value, groupby the Mouse ID and just take the last value\n",
    "# I can do this because I sorted this df by the Timepoint\n",
    "prom_regimens.sort_values(by=\"Timepoint\")\n",
    "final_volume = prom_regimens.groupby(['Mouse ID']).tail(1)\n",
    "\n",
    "# sort the values by the tumor volume for easier access to the max and min volume later on\n",
    "final_volume = final_volume.sort_values(by=['Tumor Volume (mm3)'])\n",
    "\n",
    "# Calculate the IQR and quantitatively determine if there are any potential outliers. \n",
    "# loop through each drug regimen and calculate the IQR\n",
    "for drug in list(set(final_volume['Drug Regimen'])):\n",
    "    quartiles = final_volume.loc[final_volume['Drug Regimen']==drug]['Tumor Volume (mm3)'].quantile([0.25, 0.5, 0.75])\n",
    "    lowerq = quartiles[0.25]\n",
    "    upperq = quartiles[0.75]\n",
    "    iqr = upperq - lowerq\n",
    "\n",
    "    lower_bound = lowerq - (1.5*iqr)\n",
    "    upper_bound = upperq + (1.5*iqr)\n",
    "\n",
    "#     Grab the max and min by using .head(1) and .tail(1) since the tumor volume is sorted\n",
    "    max_tumor_volume = float(final_volume.loc[final_volume['Drug Regimen']==drug]['Tumor Volume (mm3)'].tail(1))\n",
    "    min_tumor_volume = float(final_volume.loc[final_volume['Drug Regimen']==drug]['Tumor Volume (mm3)'].head(1))\n",
    "       \n",
    "#     determine if the max and min is outside of the upper and lower bounds, and give print accordingly\n",
    "    if (max_tumor_volume > upper_bound) | (min_tumor_volume < lower_bound):\n",
    "        print(f\"{drug} has at least one potential outlier.\")\n",
    "    else:\n",
    "        print(f\"{drug} does not have any outliers.\")\n"
   ]
  },
  {
   "cell_type": "code",
   "execution_count": null,
   "metadata": {},
   "outputs": [],
   "source": [
    "# Generate a box plot of the final tumor volume of each mouse across four regimens of interest\n",
    "\n",
    "# Using Matplotlib, generate a box and whisker plot of the final tumor volume for all four treatment regimens and highlight any potential outliers in the plot by changing their color and style.\n",
    "# Hint: All four box plots should be within the same figure. Use this Matplotlib documentation page for help with changing the style of the outliers.\n",
    "\n",
    "# create a list of the tumor volumes of all of the drug regimens that we are interested in\n",
    "bp_data = [final_volume['Tumor Volume (mm3)'].loc[final_volume['Drug Regimen']=='Ramicane'],\n",
    "           final_volume['Tumor Volume (mm3)'].loc[final_volume['Drug Regimen']=='Capomulin'],\n",
    "           final_volume['Tumor Volume (mm3)'].loc[final_volume['Drug Regimen']=='Infubinol'],\n",
    "           final_volume['Tumor Volume (mm3)'].loc[final_volume['Drug Regimen']=='Ceftamin']\n",
    "          ]\n",
    "\n",
    "# create veriables for plotting\n",
    "fig, ax = plt.subplots()\n",
    "# add plot text for understanding the plot shown\n",
    "ax.set_title(\"Final Tumor Volume per Drug Regimen\")\n",
    "ax.set_ylabel(\"Final Tumor Volume (mm3)\")\n",
    "ax.set_xticklabels([\"Ramicane\", \"Capomulin\", \"Infubinol\", \"Ceftamin\"])\n",
    "ax.set_xlabel(\"Drug Regimen\")\n",
    "# create a boxplot of our data created in the list above\n",
    "bp = plt.boxplot(bp_data)\n",
    "plt.tight_layout()\n",
    "plt.grid(False)\n",
    "plt.show()"
   ]
  },
  {
   "cell_type": "markdown",
   "metadata": {},
   "source": [
    "## Line and scatter plots"
   ]
  },
  {
   "cell_type": "code",
   "execution_count": null,
   "metadata": {},
   "outputs": [],
   "source": [
    "# Generate a line plot of time point versus tumor volume for a mouse treated with Capomulin\n",
    "# create a new dataframe for the mouse that I thought was interesting.\n",
    "Capomulinf966_df = metadata_results_combined_df.loc[(metadata_results_combined_df['Drug Regimen']=='Capomulin')&\n",
    "                            (metadata_results_combined_df['Mouse ID']=='f966')]\n",
    "\n",
    "# create a line plot from that dataframe using pandas\n",
    "capomulin_line_plot = Capomulinf966_df.plot.line(x='Timepoint', y='Tumor Volume (mm3)', legend=False)\n",
    "title = plt.title(f\"For Mouse with ID f966\")\n",
    "ylabel = plt.ylabel(\"Tumor Volume (mm3)\")\n",
    "plt.show()"
   ]
  },
  {
   "cell_type": "code",
   "execution_count": null,
   "metadata": {},
   "outputs": [],
   "source": [
    "# Generate a scatter plot of mouse weight versus average tumor volume for the Capomulin regimen\n",
    "# Create a dataframe of the drug regimen that we are interested in\n",
    "Capomulin_df = metadata_results_combined_df.loc[metadata_results_combined_df['Drug Regimen']=='Capomulin']\n",
    "\n",
    "# calculate the average values for each mouse\n",
    "AverageTumorVolme_perMouse_df = Capomulin_df.groupby(['Mouse ID']).mean()\n",
    "\n",
    "# create a scatter plot using pandas\n",
    "scatter = AverageTumorVolme_perMouse_df.plot.scatter(x='Tumor Volume (mm3)', y='Weight (g)')\n",
    "title = plt.title(\"Mouse Weight vs Average Tumor Volume\")\n",
    "plt.show()"
   ]
  },
  {
   "cell_type": "code",
   "execution_count": null,
   "metadata": {},
   "outputs": [],
   "source": [
    "# Calculate the correlation coefficient and linear regression model for mouse weight and average tumor volume for the \n",
    "# Capomulin regimen\n",
    "\n",
    "# using the pearson method get the correlation coefficient and print it for the Capoulin drug regimen\n",
    "CorrelationCoefficient = round(st.pearsonr(AverageTumorVolme_perMouse_df['Tumor Volume (mm3)'],\n",
    "                                           AverageTumorVolme_perMouse_df['Weight (g)'])[0],2)\n",
    "print(f\"The correlation between mouse weight and average tumor volume for the Capomulin regimen is {CorrelationCoefficient}.\")\n"
   ]
  },
  {
   "cell_type": "code",
   "execution_count": null,
   "metadata": {},
   "outputs": [],
   "source": [
    "# create the veriables for the linear regression of the mouse weight vs tumor volume\n",
    "wt_slope, wt_int, wt_r, wt_p, wt_std_err = st.linregress(AverageTumorVolme_perMouse_df['Tumor Volume (mm3)'],\n",
    "                                                            AverageTumorVolme_perMouse_df['Weight (g)']\n",
    "                                                           )\n",
    "\n",
    "# Create equation of line\n",
    "wt_fit = wt_slope * AverageTumorVolme_perMouse_df['Tumor Volume (mm3)'] + wt_int\n",
    "line_eq = (f\"y = {round(wt_slope,2)}(g/mm3)x {round(wt_int,2)}(g)\")"
   ]
  },
  {
   "cell_type": "code",
   "execution_count": null,
   "metadata": {},
   "outputs": [],
   "source": [
    "# Plot the linear model and equation on top of scatter plot \n",
    "# create the scatter plot\n",
    "scatter = AverageTumorVolme_perMouse_df.plot.scatter(x='Tumor Volume (mm3)', y='Weight (g)')\n",
    "title = plt.title(\"Mouse Weight vs Average Tumor Volume\")\n",
    "# create the linear regression plot\n",
    "plt.plot(AverageTumorVolme_perMouse_df['Tumor Volume (mm3)'], wt_fit, color=\"grey\")\n",
    "plt.annotate(line_eq,(38,15.5), fontsize=15, color=\"grey\")\n",
    "\n",
    "plt.show()"
   ]
  },
  {
   "cell_type": "code",
   "execution_count": null,
   "metadata": {},
   "outputs": [],
   "source": []
  }
 ],
 "metadata": {
  "anaconda-cloud": {},
  "kernelspec": {
   "display_name": "Python 3",
   "language": "python",
   "name": "python3"
  },
  "language_info": {
   "codemirror_mode": {
    "name": "ipython",
    "version": 3
   },
   "file_extension": ".py",
   "mimetype": "text/x-python",
   "name": "python",
   "nbconvert_exporter": "python",
   "pygments_lexer": "ipython3",
   "version": "3.6.9"
  }
 },
 "nbformat": 4,
 "nbformat_minor": 2
}
