{
 "cells": [
  {
   "cell_type": "markdown",
   "metadata": {},
   "source": [
    "## Observations and Insights"
   ]
  },
  {
   "cell_type": "markdown",
   "metadata": {},
   "source": []
  },
  {
   "cell_type": "markdown",
   "metadata": {},
   "source": [
    "## Dependencies and starter code"
   ]
  },
  {
   "cell_type": "code",
   "execution_count": null,
   "metadata": {},
   "outputs": [],
   "source": [
    "%matplotlib notebook"
   ]
  },
  {
   "cell_type": "code",
   "execution_count": null,
   "metadata": {},
   "outputs": [],
   "source": [
    "# Dependencies and Setup\n",
    "import matplotlib.pyplot as plt\n",
    "import pandas as pd\n",
    "import numpy as np\n",
    "import scipy.stats as st\n",
    "\n",
    "# Study data files\n",
    "mouse_metadata = \"data/Mouse_metadata.csv\"\n",
    "study_results = \"data/Study_results.csv\"\n",
    "\n",
    "# Read the mouse data and the study results\n",
    "mouse_metadata = pd.read_csv(mouse_metadata)\n",
    "study_results = pd.read_csv(study_results)\n",
    "\n",
    "# Combine the data into a single dataset\n",
    "metadata_results_combined_df = pd.merge(mouse_metadata, study_results, on='Mouse ID', how='outer')\n",
    "\n",
    "metadata_results_combined_df"
   ]
  },
  {
   "cell_type": "markdown",
   "metadata": {},
   "source": [
    "## Summary statistics"
   ]
  },
  {
   "cell_type": "code",
   "execution_count": null,
   "metadata": {},
   "outputs": [],
   "source": [
    "# Generate a summary statistics table of mean, median, variance, standard deviation, and SEM of the tumor volume for each regimen\n",
    "regimen_group = metadata_results_combined_df.groupby(['Drug Regimen'])\n",
    "volume_summary = regimen_group['Tumor Volume (mm3)'].mean()\n",
    "volume_summary_df = pd.DataFrame(volume_summary)\n",
    "volume_summary_df = volume_summary_df.rename(columns={'Tumor Volume (mm3)':'Mean Tumor Volume (mm3)'})\n",
    "volume_summary_df['Median Tumor Volume (mm3)'] = regimen_group['Tumor Volume (mm3)'].median()\n",
    "volume_summary_df['Variance Tumor Volume (mm3)'] = regimen_group['Tumor Volume (mm3)'].var()\n",
    "volume_summary_df['Stand. Dev. Tumor Volume (mm3)'] = regimen_group['Tumor Volume (mm3)'].std()\n",
    "volume_summary_df['SEM Tumor Volume (mm3)'] = regimen_group['Tumor Volume (mm3)'].sem()\n",
    "volume_summary_df"
   ]
  },
  {
   "cell_type": "markdown",
   "metadata": {},
   "source": [
    "## Bar plots"
   ]
  },
  {
   "cell_type": "code",
   "execution_count": null,
   "metadata": {},
   "outputs": [],
   "source": [
    "# Generate a bar plot showing number of data points for each treatment regimen using pyplot\n",
    "\n",
    "number_of_data_points = regimen_group['Tumor Volume (mm3)'].count()\n",
    "drug_regimen = list(set(metadata_results_combined_df['Drug Regimen']))\n",
    "x_axis = np.arange(len(drug_regimen))\n",
    "\n",
    "plt.bar(x_axis, number_of_data_points, tick_label=drug_regimen)\n",
    "plt.xticks(rotation=45)\n",
    "plt.title('Number of Data Points per Drug Regimen')\n",
    "plt.ylabel('Number of Data Points')\n",
    "plt.grid()\n",
    "plt.tight_layout()"
   ]
  },
  {
   "cell_type": "code",
   "execution_count": null,
   "metadata": {},
   "outputs": [],
   "source": [
    "# Generate a bar plot showing number of data points for each treatment regimen using pandas\n",
    "data_point_count_df = pd.DataFrame(number_of_data_points)\n",
    "\n",
    "Count_PDPlot = data_point_count_df.plot(kind='bar', grid=True, legend=False)\n",
    "plt.title('Number of Data Points per Drug Regimen')\n",
    "Count_PDPlot.set_ylabel('Number of Data Points')\n",
    "plt.tight_layout()"
   ]
  },
  {
   "cell_type": "markdown",
   "metadata": {},
   "source": [
    "## Pie plots"
   ]
  },
  {
   "cell_type": "code",
   "execution_count": null,
   "metadata": {},
   "outputs": [],
   "source": [
    "# Generate a pie plot showing the distribution of female versus male mice using pyplot\n",
    "\n",
    "sex_ratio_group = metadata_results_combined_df.groupby(['Sex']).count()\n",
    "sex_ratio_df = pd.DataFrame(sex_ratio_group['Mouse ID'])\n",
    "sex_ratio = list(sex_ratio_df['Mouse ID'])\n",
    "labels = sex_ratio_df.index.values.tolist()\n",
    "\n",
    "Ratio_MPLPlot = plt.pie(sex_ratio, labels=labels, autopct='%1.1f%%', startangle=180)\n"
   ]
  },
  {
   "cell_type": "code",
   "execution_count": null,
   "metadata": {},
   "outputs": [],
   "source": [
    "# Generate a pie plot showing the distribution of female versus male mice using pandas\n",
    "sex_ratio_df\n",
    "gender_list = sex_ratio_df.keys()\n",
    "\n",
    "Ratio_PDPlot = sex_ratio_df.plot(kind='pie', y=gender_list)\n",
    "Ratio_PDPlot.set_ylabel('')\n",
    "plt.tight_layout()\n",
    "plt.title('Female to Male Ratio')"
   ]
  },
  {
   "cell_type": "markdown",
   "metadata": {},
   "source": [
    "## Quartiles, outliers and boxplots"
   ]
  },
  {
   "cell_type": "code",
   "execution_count": null,
   "metadata": {},
   "outputs": [],
   "source": [
    "# Calculate the final tumor volume of each mouse across four of the most promising treatment regimens. \n",
    "# Calculate the IQR and quantitatively determine if there are any potential outliers. \n",
    "\n",
    "metadata_results_combined_df\n",
    "\n",
    "regimen_df = pd.DataFrame(regimen_group['Mouse ID'].count())\n",
    "popular_regimen_df = regimen_df.sort_values(by='Mouse ID', ascending=False).head(4)\n",
    "# metadata_results_grouped_mouse = metadata_results_combined_df.groupby(['Mouse ID', 'Drug Regimen'])\n",
    "# tumor_results = metadata_results_grouped_mouse['Tumor Volume (mm3)'].mean()\n",
    "# tumor_results_df = pd.DataFrame(tumor_results)\n",
    "# tumor_results_df = metadata_results_grouped_mouse\n",
    "# metadata_results_grouped_mouse.count()\n",
    "# metadata_results_combined_df\n",
    "\n",
    "popular_regimen_df"
   ]
  },
  {
   "cell_type": "code",
   "execution_count": null,
   "metadata": {},
   "outputs": [],
   "source": [
    "# Generate a box plot of the final tumor volume of each mouse across four regimens of interest"
   ]
  },
  {
   "cell_type": "markdown",
   "metadata": {},
   "source": [
    "## Line and scatter plots"
   ]
  },
  {
   "cell_type": "code",
   "execution_count": null,
   "metadata": {},
   "outputs": [],
   "source": [
    "# Generate a line plot of time point versus tumor volume for a mouse treated with Capomulin"
   ]
  },
  {
   "cell_type": "code",
   "execution_count": null,
   "metadata": {},
   "outputs": [],
   "source": [
    "# Generate a scatter plot of mouse weight versus average tumor volume for the Capomulin regimen"
   ]
  },
  {
   "cell_type": "code",
   "execution_count": null,
   "metadata": {},
   "outputs": [],
   "source": [
    "# Calculate the correlation coefficient and linear regression model for mouse weight and average tumor volume for the Capomulin regimen"
   ]
  },
  {
   "cell_type": "code",
   "execution_count": null,
   "metadata": {},
   "outputs": [],
   "source": []
  }
 ],
 "metadata": {
  "anaconda-cloud": {},
  "kernelspec": {
   "display_name": "Python 3",
   "language": "python",
   "name": "python3"
  },
  "language_info": {
   "codemirror_mode": {
    "name": "ipython",
    "version": 3
   },
   "file_extension": ".py",
   "mimetype": "text/x-python",
   "name": "python",
   "nbconvert_exporter": "python",
   "pygments_lexer": "ipython3",
   "version": "3.6.9"
  }
 },
 "nbformat": 4,
 "nbformat_minor": 2
}
